{
  "nbformat": 4,
  "nbformat_minor": 0,
  "metadata": {
    "colab": {
      "name": "myDataset",
      "provenance": [],
      "collapsed_sections": []
    },
    "kernelspec": {
      "name": "python3",
      "display_name": "Python 3"
    },
    "language_info": {
      "name": "python"
    }
  },
  "cells": [
    {
      "cell_type": "code",
      "metadata": {
        "id": "4vKomLy5e9OT"
      },
      "source": [
        "## import required packages ##\n",
        "\n",
        "import os\n",
        "import pandas as pd\n",
        "\n",
        "#torch\n",
        "import torch\n",
        "from torch.utils.data import Dataset\n",
        "\n",
        "#torchvision\n",
        "import torchvision\n",
        "import torchvision.transforms as transforms\n",
        "from torchvision.io import read_image"
      ],
      "execution_count": null,
      "outputs": []
    },
    {
      "cell_type": "code",
      "metadata": {
        "id": "_cB_e1BHt_E1"
      },
      "source": [
        "class myDataset(Dataset):\n",
        "  # pass in metadata dataframe (already did pd.read_csv), image directory, and \n",
        "  # any transforms\n",
        "  def __init__(self,metadata,img_dir,transform=None):\n",
        "    #check if image_dir exist\n",
        "    if (not os.path.isdir(img_dir)):\n",
        "      exit('Directory does not exist.')\n",
        "    \n",
        "    self.img_labels = metadata\n",
        "    self.img_dir = img_dir\n",
        "    self.transform = transform\n",
        "\n",
        "  # get the length of the dataset\n",
        "  def __len__(self):\n",
        "    return len(self.img_labels)\n",
        "  \n",
        "  # returns a dictionary with two fields 'image' and 'label'\n",
        "  # called when Dataloader load the data\n",
        "  def __getitem__(self,idx):\n",
        "    img_path = os.path.join(self.img_dir,str(self.img_labels.iloc[idx,0])+'.jpg')\n",
        "    _image = read_image(img_path)\n",
        "    label = self.img_labels.iloc[idx,1]\n",
        "\n",
        "    if _image.dtype == torch.uint8:\n",
        "      _image = _image/255.\n",
        "      \n",
        "    if self.transform:\n",
        "      _image = self.transform(_image)\n",
        "    \n",
        "    #return _image,label \n",
        "    return {'image':_image,'label':label}"
      ],
      "execution_count": null,
      "outputs": []
    }
  ]
}