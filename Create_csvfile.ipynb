{
 "cells": [
  {
   "cell_type": "code",
   "execution_count": 1,
   "metadata": {},
   "outputs": [],
   "source": [
    "import os\n",
    "import csv"
   ]
  },
  {
   "cell_type": "code",
   "execution_count": 20,
   "metadata": {},
   "outputs": [],
   "source": [
    "path = './data/seg_train'"
   ]
  },
  {
   "cell_type": "code",
   "execution_count": 21,
   "metadata": {},
   "outputs": [],
   "source": [
    "with open('train.csv','w',newline='') as csvfile:\n",
    "    files = []\n",
    "    forest_path = os.path.join(path,'forest')\n",
    "    sea_path = os.path.join(path,'sea')\n",
    "    for r1,d1,f1 in os.walk(forest_path):\n",
    "        for _file in f1:\n",
    "            if '.jpg' in _file:\n",
    "                files.append(_file)\n",
    "    \n",
    "    for r2,d2,f2 in os.walk(sea_path):\n",
    "        for _file in f2:\n",
    "            if '.jpg' in _file:\n",
    "                files.append(_file)\n",
    "    \n",
    "    writer = csv.writer(csvfile,delimiter=',')\n",
    "    \n",
    "    count = 0\n",
    "    for f in files:\n",
    "        img_id = f[0:-4]\n",
    "        if count < 2271:\n",
    "            label = 0\n",
    "        else:\n",
    "            label = 1\n",
    "        \n",
    "        count+=1\n",
    "        writer.writerow([img_id,label])"
   ]
  },
  {
   "cell_type": "code",
   "execution_count": 22,
   "metadata": {},
   "outputs": [
    {
     "data": {
      "text/plain": [
       "4545"
      ]
     },
     "execution_count": 22,
     "metadata": {},
     "output_type": "execute_result"
    }
   ],
   "source": [
    "count"
   ]
  },
  {
   "cell_type": "code",
   "execution_count": null,
   "metadata": {},
   "outputs": [],
   "source": []
  }
 ],
 "metadata": {
  "kernelspec": {
   "display_name": "Python 3",
   "language": "python",
   "name": "python3"
  },
  "language_info": {
   "codemirror_mode": {
    "name": "ipython",
    "version": 3
   },
   "file_extension": ".py",
   "mimetype": "text/x-python",
   "name": "python",
   "nbconvert_exporter": "python",
   "pygments_lexer": "ipython3",
   "version": "3.8.5"
  }
 },
 "nbformat": 4,
 "nbformat_minor": 4
}
